{
 "cells": [
  {
   "cell_type": "markdown",
   "metadata": {},
   "source": [
    "# Requirements"
   ]
  },
  {
   "cell_type": "code",
   "execution_count": 8,
   "metadata": {},
   "outputs": [],
   "source": [
    "#%pip install ema_workbench\n",
    "#%pip install ipyparallel"
   ]
  },
  {
   "cell_type": "markdown",
   "metadata": {},
   "source": [
    "# Simplest model\n",
    "The simplest case is where we have a model available through a python function. "
   ]
  },
  {
   "cell_type": "code",
   "execution_count": 1,
   "metadata": {},
   "outputs": [],
   "source": [
    "def some_model(x1=None, x2=None, x3=None):\n",
    "    return {'y':x1*x2+x3}"
   ]
  },
  {
   "cell_type": "markdown",
   "metadata": {},
   "source": [
    "In order to control this model from the workbench, We can instantiate a orkbench Model by passing it a name, and the function."
   ]
  },
  {
   "cell_type": "code",
   "execution_count": 9,
   "metadata": {},
   "outputs": [],
   "source": [
    "from ema_workbench import Model\n",
    "model = Model('simpleModel', function=some_model) #instantiate the model"
   ]
  },
  {
   "cell_type": "markdown",
   "metadata": {},
   "source": [
    "## Inputs and outputs\n",
    "Next, we need to specify the uncertainties and the outcomes of the model. In this case, the uncertainties are x1, x2, and x3, while the outcome is y. Here, we specify that x1 is some value between 0.1, and 10, while both x2 and x3 are somewhere between -0.01 and 0.01."
   ]
  },
  {
   "cell_type": "code",
   "execution_count": 11,
   "metadata": {},
   "outputs": [],
   "source": [
    "from ema_workbench import RealParameter, ScalarOutcome\n",
    "#specify uncertainties\n",
    "model.uncertainties = [RealParameter(\"x1\", 0.1, 10),\n",
    "                       RealParameter(\"x2\", -0.01,0.01),\n",
    "                       RealParameter(\"x3\", -0.01,0.01)]\n",
    "#specify outcomes\n",
    "model.outcomes = [ScalarOutcome('y')]"
   ]
  },
  {
   "cell_type": "markdown",
   "metadata": {},
   "source": [
    "## Run experiments\n",
    "Having implemented this model, we can now investigate the model behavior over the set of uncertainties by simply calling the function perform_experiments(), It takes the model we just specified and will execute 100 experiments. \n",
    "\n",
    "By default, these experiments are generated using a Latin Hypercube sampling, but Monte Carlo sampling and Full factorial sampling are also readily available."
   ]
  },
  {
   "cell_type": "code",
   "execution_count": 12,
   "metadata": {},
   "outputs": [
    {
     "name": "stderr",
     "output_type": "stream",
     "text": [
      "100%|██████████████████████████████████████| 100/100 [00:00<00:00, 3931.37it/s]\n"
     ]
    }
   ],
   "source": [
    "from ema_workbench import  perform_experiments\n",
    "results = perform_experiments(model, 100)"
   ]
  },
  {
   "cell_type": "code",
   "execution_count": 31,
   "metadata": {},
   "outputs": [
    {
     "name": "stdout",
     "output_type": "stream",
     "text": [
      "x1             1.472408\n",
      "x2             0.009767\n",
      "x3             0.006534\n",
      "scenario              0\n",
      "policy             None\n",
      "model       simpleModel\n",
      "Name: 0, dtype: object\n",
      "0.020916130954406295\n"
     ]
    }
   ],
   "source": [
    "print(results[0].iloc[0])\n",
    "print(results[1]['y'][0])"
   ]
  },
  {
   "cell_type": "markdown",
   "metadata": {},
   "source": [
    "# Lake problem"
   ]
  },
  {
   "cell_type": "code",
   "execution_count": 1,
   "metadata": {},
   "outputs": [],
   "source": [
    "import numpy as np\n",
    "import math\n",
    "from scipy.optimize import brentq\n",
    "\n",
    "\n",
    "def lake_problem(\n",
    "    b=0.42,  # decay rate for P in lake (0.42 = irreversible)\n",
    "    q=2.0,  # recycling exponent\n",
    "    mean=0.02,  # mean of natural inflows\n",
    "    stdev=0.001,  # future utility discount rate\n",
    "    delta=0.98,  # standard deviation of natural inflows\n",
    "    alpha=0.4,  # utility from pollution\n",
    "    nsamples=100,  # Monte Carlo sampling of natural inflows\n",
    "    **kwargs,\n",
    "):\n",
    "    try:\n",
    "        decisions = [kwargs[str(i)] for i in range(100)]\n",
    "    except KeyError:\n",
    "        decisions = [0] * 100\n",
    "        print(\"No valid decisions found, using 0 water release every year as default\")\n",
    "\n",
    "    nvars = len(decisions)\n",
    "    decisions = np.array(decisions)\n",
    "\n",
    "    # Calculate the critical pollution level (Pcrit)\n",
    "    Pcrit = brentq(lambda x: x**q / (1 + x**q) - b * x, 0.01, 1.5)\n",
    "\n",
    "    # Generate natural inflows using lognormal distribution\n",
    "    natural_inflows = np.random.lognormal(\n",
    "        mean=math.log(mean**2 / math.sqrt(stdev**2 + mean**2)),\n",
    "        sigma=math.sqrt(math.log(1.0 + stdev**2 / mean**2)),\n",
    "        size=(nsamples, nvars),\n",
    "    )\n",
    "\n",
    "    # Initialize the pollution level matrix X\n",
    "    X = np.zeros((nsamples, nvars))\n",
    "\n",
    "    # Loop through time to compute the pollution levels\n",
    "    for t in range(1, nvars):\n",
    "        X[:, t] = (\n",
    "            (1 - b) * X[:, t - 1]\n",
    "            + (X[:, t - 1] ** q / (1 + X[:, t - 1] ** q))\n",
    "            + decisions[t - 1]\n",
    "            + natural_inflows[:, t - 1]\n",
    "        )\n",
    "\n",
    "    # Calculate the average daily pollution for each time step\n",
    "    average_daily_P = np.mean(X, axis=0)\n",
    "\n",
    "    # Calculate the reliability (probability of the pollution level being below Pcrit)\n",
    "    reliability = np.sum(X < Pcrit) / float(nsamples * nvars)\n",
    "\n",
    "    # Calculate the maximum pollution level (max_P)\n",
    "    max_P = np.max(average_daily_P)\n",
    "\n",
    "    # Calculate the utility by discounting the decisions using the discount factor (delta)\n",
    "    utility = np.sum(alpha * decisions * np.power(delta, np.arange(nvars)))\n",
    "\n",
    "    # Calculate the inertia (the fraction of time steps with changes larger than 0.02)\n",
    "    inertia = np.sum(np.abs(np.diff(decisions)) > 0.02) / float(nvars - 1)\n",
    "\n",
    "    return max_P, utility, inertia, reliability"
   ]
  },
  {
   "cell_type": "markdown",
   "metadata": {},
   "source": [
    "## Creating the EMA workbench mdoel"
   ]
  },
  {
   "cell_type": "code",
   "execution_count": 2,
   "metadata": {},
   "outputs": [],
   "source": [
    "from ema_workbench import (\n",
    "    Model,\n",
    "    RealParameter,\n",
    "    ScalarOutcome,\n",
    "    Constant,\n",
    "    ema_logging,\n",
    "    MultiprocessingEvaluator,\n",
    ")\n",
    "\n",
    "# instantiate the model\n",
    "lake_model = Model(\"lakeproblem\", function=lake_problem)\n",
    "lake_model.time_horizon = 100\n",
    "\n",
    "# specify uncertainties\n",
    "lake_model.uncertainties = [\n",
    "RealParameter(\"b\", 0.1, 0.45),\n",
    "RealParameter(\"q\", 2.0, 4.5),\n",
    "RealParameter(\"mean\", 0.01, 0.05),\n",
    "RealParameter(\"stdev\", 0.001, 0.005),\n",
    "RealParameter(\"delta\", 0.93, 0.99),\n",
    "]\n",
    "\n",
    "# set levers, one for each time step\n",
    "lake_model.levers = [RealParameter(str(i), 0, 0.1) for i in range(lake_model.time_horizon)]\n",
    "\n",
    "    # specify outcomes\n",
    "lake_model.outcomes = [\n",
    "    ScalarOutcome(\"max_P\"),\n",
    "    ScalarOutcome(\"utility\"),\n",
    "    ScalarOutcome(\"inertia\"),\n",
    "    ScalarOutcome(\"reliability\"),\n",
    "]\n",
    "\n",
    "# override some of the defaults of the model\n",
    "lake_model.constants = [Constant(\"alpha\", 0.41), Constant(\"nsamples\", 150)]"
   ]
  },
  {
   "cell_type": "markdown",
   "metadata": {},
   "source": [
    "## Run the experiments"
   ]
  },
  {
   "cell_type": "code",
   "execution_count": 4,
   "metadata": {},
   "outputs": [],
   "source": [
    "from ema_workbench.em_framework.evaluators import Samplers\n",
    "# generate some random policies by sampling over levers\n",
    "n_scenarios = 100# 1000\n",
    "n_policies = 2 #4\n",
    "\n",
    "with MultiprocessingEvaluator(lake_model) as evaluator:\n",
    "    res = evaluator.perform_experiments(n_scenarios, n_policies, lever_sampling=Samplers.MC)"
   ]
  },
  {
   "cell_type": "code",
   "execution_count": 4,
   "metadata": {},
   "outputs": [
    {
     "name": "stderr",
     "output_type": "stream",
     "text": [
      "[MainProcess/INFO] performing 100 scenarios * 1 policies * 1 model(s) = 100 experiments\n",
      "  0%|                                                  | 0/100 [00:00<?, ?it/s][MainProcess/INFO] performing experiments sequentially\n"
     ]
    },
    {
     "name": "stderr",
     "output_type": "stream",
     "text": [
      " 15%|██████▏                                  | 15/100 [00:00<00:01, 71.41it/s]"
     ]
    },
    {
     "name": "stdout",
     "output_type": "stream",
     "text": [
      "No valid decisions found, using 0 water release every year as default\n",
      "No valid decisions found, using 0 water release every year as default\n",
      "No valid decisions found, using 0 water release every year as default\n",
      "No valid decisions found, using 0 water release every year as default\n",
      "No valid decisions found, using 0 water release every year as default\n",
      "No valid decisions found, using 0 water release every year as default\n",
      "No valid decisions found, using 0 water release every year as default\n",
      "No valid decisions found, using 0 water release every year as default\n",
      "No valid decisions found, using 0 water release every year as default\n",
      "No valid decisions found, using 0 water release every year as default\n",
      "No valid decisions found, using 0 water release every year as default\n",
      "No valid decisions found, using 0 water release every year as default\n",
      "No valid decisions found, using 0 water release every year as default\n",
      "No valid decisions found, using 0 water release every year as default\n",
      "No valid decisions found, using 0 water release every year as default\n"
     ]
    },
    {
     "name": "stderr",
     "output_type": "stream",
     "text": [
      " 23%|█████████▍                               | 23/100 [00:00<00:01, 74.33it/s]"
     ]
    },
    {
     "name": "stdout",
     "output_type": "stream",
     "text": [
      "No valid decisions found, using 0 water release every year as default\n",
      "No valid decisions found, using 0 water release every year as default\n",
      "No valid decisions found, using 0 water release every year as default\n",
      "No valid decisions found, using 0 water release every year as default\n",
      "No valid decisions found, using 0 water release every year as default\n",
      "No valid decisions found, using 0 water release every year as default\n",
      "No valid decisions found, using 0 water release every year as default\n",
      "No valid decisions found, using 0 water release every year as default\n",
      "No valid decisions found, using 0 water release every year as default\n",
      "No valid decisions found, using 0 water release every year as default\n",
      "No valid decisions found, using 0 water release every year as default\n",
      "No valid decisions found, using 0 water release every year as default\n"
     ]
    },
    {
     "name": "stderr",
     "output_type": "stream",
     "text": [
      " 39%|███████████████▉                         | 39/100 [00:00<00:01, 60.36it/s]"
     ]
    },
    {
     "name": "stdout",
     "output_type": "stream",
     "text": [
      "No valid decisions found, using 0 water release every year as default\n",
      "No valid decisions found, using 0 water release every year as default\n",
      "No valid decisions found, using 0 water release every year as default\n",
      "No valid decisions found, using 0 water release every year as default\n",
      "No valid decisions found, using 0 water release every year as default\n",
      "No valid decisions found, using 0 water release every year as default\n",
      "No valid decisions found, using 0 water release every year as default\n",
      "No valid decisions found, using 0 water release every year as default\n",
      "No valid decisions found, using 0 water release every year as default\n",
      "No valid decisions found, using 0 water release every year as default\n",
      "No valid decisions found, using 0 water release every year as default\n",
      "No valid decisions found, using 0 water release every year as default\n"
     ]
    },
    {
     "name": "stderr",
     "output_type": "stream",
     "text": [
      " 56%|██████████████████████▉                  | 56/100 [00:00<00:00, 70.31it/s]"
     ]
    },
    {
     "name": "stdout",
     "output_type": "stream",
     "text": [
      "No valid decisions found, using 0 water release every year as default\n",
      "No valid decisions found, using 0 water release every year as default\n",
      "No valid decisions found, using 0 water release every year as default\n",
      "No valid decisions found, using 0 water release every year as default\n",
      "No valid decisions found, using 0 water release every year as default\n",
      "No valid decisions found, using 0 water release every year as default\n",
      "No valid decisions found, using 0 water release every year as default\n",
      "No valid decisions found, using 0 water release every year as default\n",
      "No valid decisions found, using 0 water release every year as default\n",
      "No valid decisions found, using 0 water release every year as default\n",
      "No valid decisions found, using 0 water release every year as default\n",
      "No valid decisions found, using 0 water release every year as default\n",
      "No valid decisions found, using 0 water release every year as default\n",
      "No valid decisions found, using 0 water release every year as default\n",
      "No valid decisions found, using 0 water release every year as default\n",
      "No valid decisions found, using 0 water release every year as default\n",
      "No valid decisions found, using 0 water release every year as default\n"
     ]
    },
    {
     "name": "stderr",
     "output_type": "stream",
     "text": [
      " 64%|██████████████████████████▏              | 64/100 [00:00<00:00, 69.20it/s]"
     ]
    },
    {
     "name": "stdout",
     "output_type": "stream",
     "text": [
      "No valid decisions found, using 0 water release every year as default\n",
      "No valid decisions found, using 0 water release every year as default\n",
      "No valid decisions found, using 0 water release every year as default\n",
      "No valid decisions found, using 0 water release every year as default\n",
      "No valid decisions found, using 0 water release every year as default\n",
      "No valid decisions found, using 0 water release every year as default\n",
      "No valid decisions found, using 0 water release every year as default\n",
      "No valid decisions found, using 0 water release every year as default\n",
      "No valid decisions found, using 0 water release every year as default\n",
      "No valid decisions found, using 0 water release every year as default\n",
      "No valid decisions found, using 0 water release every year as default\n",
      "No valid decisions found, using 0 water release every year as default\n",
      "No valid decisions found, using 0 water release every year as default\n",
      "No valid decisions found, using 0 water release every year as default\n",
      "No valid decisions found, using 0 water release every year as default\n"
     ]
    },
    {
     "name": "stderr",
     "output_type": "stream",
     "text": [
      " 80%|████████████████████████████████▊        | 80/100 [00:01<00:00, 71.67it/s]"
     ]
    },
    {
     "name": "stdout",
     "output_type": "stream",
     "text": [
      "No valid decisions found, using 0 water release every year as default\n",
      "No valid decisions found, using 0 water release every year as default\n",
      "No valid decisions found, using 0 water release every year as default\n",
      "No valid decisions found, using 0 water release every year as default\n",
      "No valid decisions found, using 0 water release every year as default\n",
      "No valid decisions found, using 0 water release every year as default\n",
      "No valid decisions found, using 0 water release every year as default\n",
      "No valid decisions found, using 0 water release every year as default\n",
      "No valid decisions found, using 0 water release every year as default\n",
      "No valid decisions found, using 0 water release every year as default\n",
      "No valid decisions found, using 0 water release every year as default\n",
      "No valid decisions found, using 0 water release every year as default\n",
      "No valid decisions found, using 0 water release every year as default\n",
      "No valid decisions found, using 0 water release every year as default\n",
      "No valid decisions found, using 0 water release every year as default\n",
      "No valid decisions found, using 0 water release every year as default\n",
      "No valid decisions found, using 0 water release every year as default\n"
     ]
    },
    {
     "name": "stderr",
     "output_type": "stream",
     "text": [
      "100%|████████████████████████████████████████| 100/100 [00:01<00:00, 69.96it/s]\n",
      "[MainProcess/INFO] experiments finished\n"
     ]
    },
    {
     "name": "stdout",
     "output_type": "stream",
     "text": [
      "No valid decisions found, using 0 water release every year as default\n",
      "No valid decisions found, using 0 water release every year as default\n",
      "No valid decisions found, using 0 water release every year as default\n",
      "No valid decisions found, using 0 water release every year as default\n",
      "No valid decisions found, using 0 water release every year as default\n",
      "No valid decisions found, using 0 water release every year as default\n",
      "No valid decisions found, using 0 water release every year as default\n",
      "No valid decisions found, using 0 water release every year as default\n",
      "No valid decisions found, using 0 water release every year as default\n",
      "No valid decisions found, using 0 water release every year as default\n",
      "No valid decisions found, using 0 water release every year as default\n",
      "No valid decisions found, using 0 water release every year as default\n"
     ]
    }
   ],
   "source": [
    "from ema_workbench import perform_experiments, ema_logging\n",
    "#ema_logging.log_to_stderr(ema_logging.INFO)\n",
    "\n",
    "# Run experiments\n",
    "n_scenarios = 100  # Number of scenarios\n",
    "results = perform_experiments(lake_model, n_scenarios)"
   ]
  },
  {
   "cell_type": "code",
   "execution_count": 9,
   "metadata": {},
   "outputs": [
    {
     "name": "stdout",
     "output_type": "stream",
     "text": [
      "<class 'tuple'>\n",
      "<class 'pandas.core.frame.DataFrame'>\n",
      "<class 'dict'>\n"
     ]
    }
   ],
   "source": [
    "print(type(results))\n",
    "print(type(results[0]))\n",
    "print(type(results[1]))"
   ]
  },
  {
   "cell_type": "markdown",
   "metadata": {},
   "source": [
    "## Visualizations"
   ]
  },
  {
   "cell_type": "markdown",
   "metadata": {},
   "source": [
    "The line plot shows how max_P change over time"
   ]
  },
  {
   "cell_type": "code",
   "execution_count": 12,
   "metadata": {},
   "outputs": [
    {
     "data": {
      "image/png": "[encoded data removed]",
      "text/plain": [
       "<Figure size 800x600 with 1 Axes>"
      ]
     },
     "metadata": {},
     "output_type": "display_data"
    }
   ],
   "source": [
    "import matplotlib.pyplot as plt\n",
    "\n",
    "plt.figure(figsize=(8, 6))\n",
    "plt.plot(results[1][\"max_P\"], label=\"Max Pollution\")\n",
    "plt.xlabel(\"Time Step\")\n",
    "plt.ylabel(\"Max Pollution\")\n",
    "plt.title(\"Max Pollution Over Time\")\n",
    "plt.legend()\n",
    "plt.show()"
   ]
  },
  {
   "cell_type": "markdown",
   "metadata": {},
   "source": [
    "The pie chart represents the overall reliability"
   ]
  },
  {
   "cell_type": "code",
   "execution_count": 15,
   "metadata": {},
   "outputs": [
    {
     "data": {
      "image/png": "[encoded data removed]",
      "text/plain": [
       "<Figure size 600x600 with 1 Axes>"
      ]
     },
     "metadata": {},
     "output_type": "display_data"
    }
   ],
   "source": [
    "plt.figure(figsize=(6, 6))\n",
    "labels = [\"Reliable\", \"Not Reliable\"]\n",
    "sizes = [results[1][\"reliability\"].mean(), 1 - results[1][\"reliability\"].mean()]\n",
    "plt.pie(sizes, labels=labels, autopct=\"%1.1f%%\", startangle=90)\n",
    "plt.title(\"Reliability\")\n",
    "plt.axis(\"equal\")\n",
    "plt.show()"
   ]
  },
  {
   "cell_type": "markdown",
   "metadata": {},
   "source": [
    "# Exploratory modeling\n",
    "In exploratory modeling, we are interested in understanding how regions in the uncertainty space and/or the decision space map to the whole outcome space.\n",
    "\n",
    "There are two general approaches for investigating this mapping. \n",
    "- The first one is through systematic sampling of the uncertainty or decision space. This is sometimes also known as open exploration. \n",
    "- The second one is to search through the space in a directed manner using some type of optimization approach. This is sometimes also known as directed search.\n",
    "\n",
    "In most applications, search is used for finding promising mappings from the decision space to the outcome space, while exploration is used to stress test these mappings under a whole range of possible resolutions to the various uncertainties.\n",
    "\n",
    "Also  Optimization can be used to discover the worst possible scenario, while sampling can be used to get insight into the sensitivity of outcomes to the various decision levers."
   ]
  },
  {
   "cell_type": "markdown",
   "metadata": {},
   "source": [
    "## Open exploration\n",
    "\n",
    "Let's use the Direct Policy Search (DPS) version of the lake problem (Quinn et al 2017).\n",
    "\n",
    "We are going to simultaneously sample over uncertainties and decision levers. We are going to generate 50 scenarios and 2 policies, and see how they jointly affect the outcomes. \n",
    "\n",
    "* A scenario is understood as a point in the uncertainty space\n",
    "* A policy is a point in the decision space. \n",
    "* The combination of a scenario and a policy is called experiment. \n",
    "* The uncertainty space is spanned by uncertainties\n",
    "* The decision space is spanned by levers."
   ]
  },
  {
   "cell_type": "markdown",
   "metadata": {},
   "source": [
    "About workbench:\n",
    "* Both uncertainties and levers are instances of RealParameter (a continuous range), IntegerParameter (a range of integers), or CategoricalParameter (an unorder set of things). \n",
    "* By default, the workbench will use Latin Hypercube sampling for generating both the scenarios and the policies. \n",
    "* Each policy will be always evaluated over all scenarios (i.e. a full factorial over scenarios and policies)."
   ]
  },
  {
   "cell_type": "code",
   "execution_count": 2,
   "metadata": {},
   "outputs": [],
   "source": [
    "import math\n",
    "\n",
    "# more or less default imports when using\n",
    "# the workbench\n",
    "import numpy as np\n",
    "import pandas as pd\n",
    "import seaborn as sns\n",
    "import matplotlib.pyplot as plt\n",
    "\n",
    "from scipy.optimize import brentq\n",
    "\n",
    "\n",
    "def get_antropogenic_release(xt, c1, c2, r1, r2, w1):\n",
    "    \"\"\"\n",
    "\n",
    "    Parameters\n",
    "    ----------\n",
    "    xt : float\n",
    "         pollution in lake at time t\n",
    "    c1 : float\n",
    "         center rbf 1\n",
    "    c2 : float\n",
    "         center rbf 2\n",
    "    r1 : float\n",
    "         ratius rbf 1\n",
    "    r2 : float\n",
    "         ratius rbf 2\n",
    "    w1 : float\n",
    "         weight of rbf 1\n",
    "\n",
    "    Returns\n",
    "    -------\n",
    "    float\n",
    "\n",
    "    note:: w2 = 1 - w1\n",
    "\n",
    "    \"\"\"\n",
    "\n",
    "    rule = w1 * (abs(xt - c1) / r1) ** 3 + (1 - w1) * (abs(xt - c2) / r2) ** 3\n",
    "    at1 = max(rule, 0.01)\n",
    "    at = min(at1, 0.1)\n",
    "\n",
    "    return at\n",
    "\n",
    "\n",
    "def lake_model(\n",
    "    b=0.42,\n",
    "    q=2.0,\n",
    "    mean=0.02,\n",
    "    stdev=0.001,\n",
    "    delta=0.98,\n",
    "    alpha=0.4,\n",
    "    nsamples=100,\n",
    "    myears=100,\n",
    "    c1=0.25,\n",
    "    c2=0.25,\n",
    "    r1=0.5,\n",
    "    r2=0.5,\n",
    "    w1=0.5,\n",
    "    seed=None,\n",
    "):\n",
    "    \"\"\"runs the lake model for nsamples stochastic realisation using\n",
    "    specified random seed.\n",
    "\n",
    "    Parameters\n",
    "    ----------\n",
    "    b : float\n",
    "        decay rate for P in lake (0.42 = irreversible)\n",
    "    q : float\n",
    "        recycling exponent\n",
    "    mean : float\n",
    "            mean of natural inflows\n",
    "    stdev : float\n",
    "            standard deviation of natural inflows\n",
    "    delta : float\n",
    "            future utility discount rate\n",
    "    alpha : float\n",
    "            utility from pollution\n",
    "    nsamples : int, optional\n",
    "    myears : int, optional\n",
    "    c1 : float\n",
    "    c2 : float\n",
    "    r1 : float\n",
    "    r2 : float\n",
    "    w1 : float\n",
    "    seed : int, optional\n",
    "           seed for the random number generator\n",
    "\n",
    "    Returns\n",
    "    -------\n",
    "    tuple\n",
    "\n",
    "    \"\"\"\n",
    "    np.random.seed(seed)\n",
    "    Pcrit = brentq(lambda x: x**q / (1 + x**q) - b * x, 0.01, 1.5)\n",
    "\n",
    "    X = np.zeros((myears,))\n",
    "    average_daily_P = np.zeros((myears,))\n",
    "    reliability = 0.0\n",
    "    inertia = 0\n",
    "    utility = 0\n",
    "\n",
    "    for _ in range(nsamples):\n",
    "        X[0] = 0.0\n",
    "        decision = 0.1\n",
    "\n",
    "        decisions = np.zeros(myears)\n",
    "        decisions[0] = decision\n",
    "\n",
    "        natural_inflows = np.random.lognormal(\n",
    "            math.log(mean**2 / math.sqrt(stdev**2 + mean**2)),\n",
    "            math.sqrt(math.log(1.0 + stdev**2 / mean**2)),\n",
    "            size=myears,\n",
    "        )\n",
    "\n",
    "        for t in range(1, myears):\n",
    "            # here we use the decision rule\n",
    "            decision = get_antropogenic_release(X[t - 1], c1, c2, r1, r2, w1)\n",
    "            decisions[t] = decision\n",
    "\n",
    "            X[t] = (\n",
    "                (1 - b) * X[t - 1]\n",
    "                + X[t - 1] ** q / (1 + X[t - 1] ** q)\n",
    "                + decision\n",
    "                + natural_inflows[t - 1]\n",
    "            )\n",
    "            average_daily_P[t] += X[t] / nsamples\n",
    "\n",
    "        reliability += np.sum(X < Pcrit) / (nsamples * myears)\n",
    "        inertia += np.sum(np.absolute(np.diff(decisions) < 0.02)) / (nsamples * myears)\n",
    "        utility += np.sum(alpha * decisions * np.power(delta, np.arange(myears))) / nsamples\n",
    "    max_P = np.max(average_daily_P)\n",
    "    return max_P, utility, inertia, reliability"
   ]
  },
  {
   "cell_type": "code",
   "execution_count": 3,
   "metadata": {},
   "outputs": [],
   "source": [
    "from ema_workbench import RealParameter, ScalarOutcome, Constant, Model\n",
    "\n",
    "model = Model(\"lakeproblem\", function=lake_model)\n",
    "\n",
    "# specify uncertainties\n",
    "model.uncertainties = [\n",
    "    RealParameter(\"b\", 0.1, 0.45),\n",
    "    RealParameter(\"q\", 2.0, 4.5),\n",
    "    RealParameter(\"mean\", 0.01, 0.05),\n",
    "    RealParameter(\"stdev\", 0.001, 0.005),\n",
    "    RealParameter(\"delta\", 0.93, 0.99),\n",
    "]\n",
    "\n",
    "# set levers\n",
    "model.levers = [\n",
    "    RealParameter(\"c1\", -2, 2),\n",
    "    RealParameter(\"c2\", -2, 2),\n",
    "    RealParameter(\"r1\", 0, 2),\n",
    "    RealParameter(\"r2\", 0, 2),\n",
    "    RealParameter(\"w1\", 0, 1),\n",
    "]\n",
    "\n",
    "# specify outcomes\n",
    "model.outcomes = [\n",
    "    ScalarOutcome(\"max_P\"),\n",
    "    ScalarOutcome(\"utility\"),\n",
    "    ScalarOutcome(\"inertia\"),\n",
    "    ScalarOutcome(\"reliability\"),\n",
    "]\n",
    "\n",
    "# override some of the defaults of the model\n",
    "model.constants = [\n",
    "    Constant(\"alpha\", 0.41),\n",
    "    Constant(\"nsamples\", 150),\n",
    "    Constant(\"myears\", 100),\n",
    "]"
   ]
  },
  {
   "cell_type": "code",
   "execution_count": 4,
   "metadata": {},
   "outputs": [
    {
     "name": "stderr",
     "output_type": "stream",
     "text": [
      "[MainProcess/INFO] pool started with 7 workers\n",
      "[MainProcess/INFO] performing 2 scenarios * 1 policies * 1 model(s) = 2 experiments\n",
      "  0%|                                                    | 0/2 [00:00<?, ?it/s]"
     ]
    }
   ],
   "source": [
    "from ema_workbench import MultiprocessingEvaluator, ema_logging, perform_experiments\n",
    "\n",
    "ema_logging.log_to_stderr(ema_logging.INFO)\n",
    "\n",
    "# The n_processes=-1 ensures that all cores except 1 are used, which is kept free to keep using the computer\n",
    "with MultiprocessingEvaluator(model, n_processes=-1) as evaluator:\n",
    "    experiments, outcomes = evaluator.perform_experiments(scenarios=2, policies=1)"
   ]
  }
 ],
 "metadata": {
  "kernelspec": {
   "display_name": "Python 3",
   "language": "python",
   "name": "python3"
  },
  "language_info": {
   "codemirror_mode": {
    "name": "ipython",
    "version": 3
   },
   "file_extension": ".py",
   "mimetype": "text/x-python",
   "name": "python",
   "nbconvert_exporter": "python",
   "pygments_lexer": "ipython3",
   "version": "3.8.19"
  }
 },
 "nbformat": 4,
 "nbformat_minor": 2
}
